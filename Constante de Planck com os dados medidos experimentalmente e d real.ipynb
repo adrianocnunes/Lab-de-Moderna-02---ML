{
 "cells": [
  {
   "cell_type": "markdown",
   "id": "c146f3a1",
   "metadata": {},
   "source": [
    "# Inicializando as bibliotecas necessárias"
   ]
  },
  {
   "cell_type": "code",
   "execution_count": 15,
   "id": "66c95baf",
   "metadata": {},
   "outputs": [],
   "source": [
    "#bibliotecas\n",
    "import pandas as pd\n",
    "import numpy as np\n",
    "import seaborn as sns\n",
    "import matplotlib.pyplot as plt\n",
    "from sklearn.model_selection import train_test_split\n",
    "from sklearn.linear_model import LinearRegression\n",
    "import scipy as sp\n",
    "\n",
    "%matplotlib inline"
   ]
  },
  {
   "cell_type": "markdown",
   "id": "e40f8174",
   "metadata": {},
   "source": [
    "# \"Chamando\" a planilha de dados"
   ]
  },
  {
   "cell_type": "code",
   "execution_count": 16,
   "id": "7dedba3c",
   "metadata": {},
   "outputs": [],
   "source": [
    "const = pd.read_csv('co.csv',index_col=0, decimal=',')"
   ]
  },
  {
   "cell_type": "markdown",
   "id": "60ff326f",
   "metadata": {},
   "source": [
    "# Mostrando a planilha de dados em uma tabela"
   ]
  },
  {
   "cell_type": "code",
   "execution_count": 17,
   "id": "7e4f0b5f",
   "metadata": {},
   "outputs": [
    {
     "data": {
      "text/html": [
       "<div>\n",
       "<style scoped>\n",
       "    .dataframe tbody tr th:only-of-type {\n",
       "        vertical-align: middle;\n",
       "    }\n",
       "\n",
       "    .dataframe tbody tr th {\n",
       "        vertical-align: top;\n",
       "    }\n",
       "\n",
       "    .dataframe thead th {\n",
       "        text-align: right;\n",
       "    }\n",
       "</style>\n",
       "<table border=\"1\" class=\"dataframe\">\n",
       "  <thead>\n",
       "    <tr style=\"text-align: right;\">\n",
       "      <th></th>\n",
       "      <th>lambda  (nm)</th>\n",
       "      <th>lambda (m)</th>\n",
       "      <th>frequencia (Hz)</th>\n",
       "      <th>Vlimiar</th>\n",
       "      <th>Vext</th>\n",
       "    </tr>\n",
       "    <tr>\n",
       "      <th>LED</th>\n",
       "      <th></th>\n",
       "      <th></th>\n",
       "      <th></th>\n",
       "      <th></th>\n",
       "      <th></th>\n",
       "    </tr>\n",
       "  </thead>\n",
       "  <tbody>\n",
       "    <tr>\n",
       "      <th>vermelho</th>\n",
       "      <td>637.579</td>\n",
       "      <td>6.375790e-07</td>\n",
       "      <td>470204410747531</td>\n",
       "      <td>1.360</td>\n",
       "      <td>1.6610</td>\n",
       "    </tr>\n",
       "    <tr>\n",
       "      <th>laranja</th>\n",
       "      <td>600.745</td>\n",
       "      <td>6.007450e-07</td>\n",
       "      <td>499034462209423</td>\n",
       "      <td>1.469</td>\n",
       "      <td>1.9246</td>\n",
       "    </tr>\n",
       "    <tr>\n",
       "      <th>amarelo</th>\n",
       "      <td>599.868</td>\n",
       "      <td>5.998680e-07</td>\n",
       "      <td>499764044756513</td>\n",
       "      <td>1.565</td>\n",
       "      <td>1.8297</td>\n",
       "    </tr>\n",
       "    <tr>\n",
       "      <th>verde</th>\n",
       "      <td>577.066</td>\n",
       "      <td>5.770660e-07</td>\n",
       "      <td>519511560202819</td>\n",
       "      <td>1.603</td>\n",
       "      <td>1.8880</td>\n",
       "    </tr>\n",
       "    <tr>\n",
       "      <th>azul</th>\n",
       "      <td>488.489</td>\n",
       "      <td>4.884890e-07</td>\n",
       "      <td>613713835930799</td>\n",
       "      <td>2.142</td>\n",
       "      <td>2.6760</td>\n",
       "    </tr>\n",
       "  </tbody>\n",
       "</table>\n",
       "</div>"
      ],
      "text/plain": [
       "           lambda  (nm)    lambda (m)  frequencia (Hz)  Vlimiar    Vext\n",
       "LED                                                                    \n",
       "vermelho        637.579  6.375790e-07  470204410747531    1.360  1.6610\n",
       "laranja         600.745  6.007450e-07  499034462209423    1.469  1.9246\n",
       "amarelo         599.868  5.998680e-07  499764044756513    1.565  1.8297\n",
       "verde           577.066  5.770660e-07  519511560202819    1.603  1.8880\n",
       "azul            488.489  4.884890e-07  613713835930799    2.142  2.6760"
      ]
     },
     "execution_count": 17,
     "metadata": {},
     "output_type": "execute_result"
    }
   ],
   "source": [
    "const.head()"
   ]
  },
  {
   "cell_type": "markdown",
   "id": "6ca8a0c7",
   "metadata": {},
   "source": [
    "# Ajuste linear de Vlimiar vs Frequência"
   ]
  },
  {
   "cell_type": "code",
   "execution_count": 18,
   "id": "f9cbf240",
   "metadata": {},
   "outputs": [],
   "source": [
    "# Definindo as variáveis"
   ]
  },
  {
   "cell_type": "code",
   "execution_count": 19,
   "id": "f2effaf5-e00a-41ca-8ed5-2de6ca831013",
   "metadata": {},
   "outputs": [],
   "source": [
    "x = const['frequencia (Hz)'].to_numpy().reshape(-1, 1)\n",
    "y = const['Vlimiar'].to_numpy().reshape(-1, 1)"
   ]
  },
  {
   "cell_type": "markdown",
   "id": "80ac949d",
   "metadata": {},
   "source": [
    "# Fazendo a regressão linear"
   ]
  },
  {
   "cell_type": "code",
   "execution_count": 20,
   "id": "00d4296f-44ae-4d4a-b0b3-f7ae1c34a00a",
   "metadata": {},
   "outputs": [
    {
     "name": "stdout",
     "output_type": "stream",
     "text": [
      "Vlimiar\n",
      "a=[-1.21441805]\n",
      "b=[[5.46112352e-15]]\n"
     ]
    }
   ],
   "source": [
    "lm = LinearRegression()\n",
    "lm.fit(x, y)\n",
    "a = lm.intercept_\n",
    "b = lm.coef_\n",
    "print('Vlimiar')\n",
    "print('a=' + str(a))\n",
    "print('b=' + str(b))"
   ]
  },
  {
   "cell_type": "markdown",
   "id": "30405e22",
   "metadata": {},
   "source": [
    "# Definindo a função"
   ]
  },
  {
   "cell_type": "code",
   "execution_count": 21,
   "id": "29bfa471",
   "metadata": {},
   "outputs": [],
   "source": [
    "def f(x):\n",
    "    return b*x + a"
   ]
  },
  {
   "cell_type": "markdown",
   "id": "c7b3cca9",
   "metadata": {},
   "source": [
    "# \"Fitando\" a reta: Vlimiar vs Frequência"
   ]
  },
  {
   "cell_type": "code",
   "execution_count": 22,
   "id": "dbecf2ea",
   "metadata": {},
   "outputs": [
    {
     "data": {
      "text/plain": [
       "[<matplotlib.lines.Line2D at 0x1214f7a00>]"
      ]
     },
     "execution_count": 22,
     "metadata": {},
     "output_type": "execute_result"
    },
    {
     "data": {
      "image/png": "[encoded data removed]",
      "text/plain": [
       "<Figure size 432x288 with 1 Axes>"
      ]
     },
     "metadata": {},
     "output_type": "display_data"
    }
   ],
   "source": [
    "plt.style.use('seaborn-whitegrid')\n",
    "plt.scatter(x, y, color='red')\n",
    "plt.xlabel('frequência')\n",
    "plt.ylabel('Vlimiar')\n",
    "plt.plot(x, f(x), color='black')"
   ]
  },
  {
   "cell_type": "markdown",
   "id": "3fb3fc3d",
   "metadata": {},
   "source": [
    "# Gráfico ampliado"
   ]
  },
  {
   "cell_type": "code",
   "execution_count": 23,
   "id": "316598ad",
   "metadata": {
    "scrolled": true
   },
   "outputs": [
    {
     "data": {
      "image/png": "[encoded data removed]",
      "text/plain": [
       "<Figure size 360x360 with 1 Axes>"
      ]
     },
     "metadata": {},
     "output_type": "display_data"
    }
   ],
   "source": [
    "sns.set_style('whitegrid')\n",
    "g = sns.lmplot(x='frequencia (Hz)', y='Vlimiar',data=const, ci=None, line_kws={\"color\": \"black\", 'lw': 0.5}, scatter_kws={\"color\": \"red\"})"
   ]
  },
  {
   "cell_type": "markdown",
   "id": "757b77cf",
   "metadata": {},
   "source": [
    "# Ajuste linear de Vext vs Frequência"
   ]
  },
  {
   "cell_type": "markdown",
   "id": "80cafedb",
   "metadata": {},
   "source": [
    "# Definindo as variáveis"
   ]
  },
  {
   "cell_type": "code",
   "execution_count": 24,
   "id": "4e5b6019-8a9b-4307-9ba1-338202421f9f",
   "metadata": {},
   "outputs": [],
   "source": [
    "x = const['frequencia (Hz)'].to_numpy().reshape(-1, 1)\n",
    "y = const['Vext'].to_numpy().reshape(-1, 1)"
   ]
  },
  {
   "cell_type": "markdown",
   "id": "d3f19903",
   "metadata": {},
   "source": [
    "# Fazendo a regressão linear"
   ]
  },
  {
   "cell_type": "code",
   "execution_count": 25,
   "id": "1ae55893",
   "metadata": {},
   "outputs": [
    {
     "name": "stdout",
     "output_type": "stream",
     "text": [
      "Vext\n",
      "a=[-1.67093655]\n",
      "b=[[7.04549353e-15]]\n"
     ]
    }
   ],
   "source": [
    "lm = LinearRegression()\n",
    "lm.fit(x, y)\n",
    "a = lm.intercept_\n",
    "b = lm.coef_\n",
    "print('Vext')\n",
    "print('a=' + str(a))\n",
    "print('b=' + str(b))"
   ]
  },
  {
   "cell_type": "markdown",
   "id": "29b7418f",
   "metadata": {},
   "source": [
    "# Definindo a função"
   ]
  },
  {
   "cell_type": "code",
   "execution_count": 26,
   "id": "0374ead9-5be1-42fc-8199-199594906a1a",
   "metadata": {},
   "outputs": [],
   "source": [
    "def f(x):\n",
    "    return b*x + a"
   ]
  },
  {
   "cell_type": "markdown",
   "id": "77bc3757",
   "metadata": {},
   "source": [
    "# \"Fitando\" a reta: Vext vs Frequência"
   ]
  },
  {
   "cell_type": "code",
   "execution_count": 27,
   "id": "a474a7c0-e51a-4d61-bbeb-4aa856165c9e",
   "metadata": {},
   "outputs": [
    {
     "data": {
      "text/plain": [
       "[<matplotlib.lines.Line2D at 0x1215e40d0>]"
      ]
     },
     "execution_count": 27,
     "metadata": {},
     "output_type": "execute_result"
    },
    {
     "data": {
      "image/png": "[encoded data removed]",
      "text/plain": [
       "<Figure size 432x288 with 1 Axes>"
      ]
     },
     "metadata": {},
     "output_type": "display_data"
    }
   ],
   "source": [
    "plt.style.use('seaborn-whitegrid')\n",
    "plt.scatter(x, y, color='red')\n",
    "plt.xlabel('frequência')\n",
    "plt.ylabel('Vext')\n",
    "plt.plot(x, f(x), color='black')"
   ]
  },
  {
   "cell_type": "markdown",
   "id": "400ab3a2",
   "metadata": {},
   "source": [
    "# Gráfico ampliado"
   ]
  },
  {
   "cell_type": "code",
   "execution_count": 14,
   "id": "0fb2e9af-f106-4331-9637-f178f8214fe3",
   "metadata": {},
   "outputs": [
    {
     "data": {
      "image/png": "[encoded data removed]",
      "text/plain": [
       "<Figure size 360x360 with 1 Axes>"
      ]
     },
     "metadata": {},
     "output_type": "display_data"
    }
   ],
   "source": [
    "sns.set_style('whitegrid')\n",
    "g = sns.lmplot(x='frequencia (Hz)', y='Vext',data=const, ci=None, line_kws={\"color\": \"black\", 'lw': 0.5}, scatter_kws={\"color\": \"red\"})"
   ]
  },
  {
   "cell_type": "code",
   "execution_count": null,
   "id": "785941b0-734d-4641-a4ae-fe52bdaad7cd",
   "metadata": {},
   "outputs": [],
   "source": []
  }
 ],
 "metadata": {
  "kernelspec": {
   "display_name": "Python 3 (ipykernel)",
   "language": "python",
   "name": "python3"
  },
  "language_info": {
   "codemirror_mode": {
    "name": "ipython",
    "version": 3
   },
   "file_extension": ".py",
   "mimetype": "text/x-python",
   "name": "python",
   "nbconvert_exporter": "python",
   "pygments_lexer": "ipython3",
   "version": "3.9.12"
  }
 },
 "nbformat": 4,
 "nbformat_minor": 5
}
