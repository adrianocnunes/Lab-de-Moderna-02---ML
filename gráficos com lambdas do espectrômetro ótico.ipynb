{
 "cells": [
  {
   "cell_type": "markdown",
   "id": "cc93a458",
   "metadata": {},
   "source": [
    "# Inicializando as bibliotecas necessárias"
   ]
  },
  {
   "cell_type": "code",
   "execution_count": 14,
   "id": "664dc87b",
   "metadata": {},
   "outputs": [],
   "source": [
    "#bibliotecas\n",
    "import pandas as pd\n",
    "import numpy as np\n",
    "import seaborn as sns\n",
    "import matplotlib.pyplot as plt\n",
    "from sklearn.model_selection import train_test_split\n",
    "from sklearn.linear_model import LinearRegression\n",
    "import scipy as sp\n",
    "\n",
    "%matplotlib inline"
   ]
  },
  {
   "cell_type": "markdown",
   "id": "7f2c80f3",
   "metadata": {},
   "source": [
    "# \"Chamando\" a planilha de dados"
   ]
  },
  {
   "cell_type": "code",
   "execution_count": 15,
   "id": "5b8fda13",
   "metadata": {},
   "outputs": [],
   "source": [
    "const = pd.read_csv('lambdas_espectrometro_otico.csv',index_col=0, decimal=',')"
   ]
  },
  {
   "cell_type": "markdown",
   "id": "7dc3bf3a",
   "metadata": {},
   "source": [
    "# Mostrando a planilha de dados em uma tabela"
   ]
  },
  {
   "cell_type": "code",
   "execution_count": 16,
   "id": "e85c0d7b",
   "metadata": {},
   "outputs": [
    {
     "data": {
      "text/html": [
       "<div>\n",
       "<style scoped>\n",
       "    .dataframe tbody tr th:only-of-type {\n",
       "        vertical-align: middle;\n",
       "    }\n",
       "\n",
       "    .dataframe tbody tr th {\n",
       "        vertical-align: top;\n",
       "    }\n",
       "\n",
       "    .dataframe thead th {\n",
       "        text-align: right;\n",
       "    }\n",
       "</style>\n",
       "<table border=\"1\" class=\"dataframe\">\n",
       "  <thead>\n",
       "    <tr style=\"text-align: right;\">\n",
       "      <th></th>\n",
       "      <th>lambda (nm)</th>\n",
       "      <th>lambda (m)</th>\n",
       "      <th>frequencia (Hz)</th>\n",
       "      <th>Vlimiar</th>\n",
       "      <th>Vext</th>\n",
       "    </tr>\n",
       "    <tr>\n",
       "      <th>LED</th>\n",
       "      <th></th>\n",
       "      <th></th>\n",
       "      <th></th>\n",
       "      <th></th>\n",
       "      <th></th>\n",
       "    </tr>\n",
       "  </thead>\n",
       "  <tbody>\n",
       "    <tr>\n",
       "      <th>vermelho</th>\n",
       "      <td>645</td>\n",
       "      <td>6.450000e-07</td>\n",
       "      <td>464794508527132</td>\n",
       "      <td>1.360</td>\n",
       "      <td>1.6610</td>\n",
       "    </tr>\n",
       "    <tr>\n",
       "      <th>laranja</th>\n",
       "      <td>601</td>\n",
       "      <td>6.010000e-07</td>\n",
       "      <td>498822725457571</td>\n",
       "      <td>1.469</td>\n",
       "      <td>1.9246</td>\n",
       "    </tr>\n",
       "    <tr>\n",
       "      <th>amarelo</th>\n",
       "      <td>583</td>\n",
       "      <td>5.830000e-07</td>\n",
       "      <td>514223770154374</td>\n",
       "      <td>1.565</td>\n",
       "      <td>1.8297</td>\n",
       "    </tr>\n",
       "    <tr>\n",
       "      <th>verde</th>\n",
       "      <td>568</td>\n",
       "      <td>5.680000e-07</td>\n",
       "      <td>527803623239437</td>\n",
       "      <td>1.603</td>\n",
       "      <td>1.8880</td>\n",
       "    </tr>\n",
       "    <tr>\n",
       "      <th>azul</th>\n",
       "      <td>470</td>\n",
       "      <td>4.700000e-07</td>\n",
       "      <td>637856293617021</td>\n",
       "      <td>2.142</td>\n",
       "      <td>2.6760</td>\n",
       "    </tr>\n",
       "  </tbody>\n",
       "</table>\n",
       "</div>"
      ],
      "text/plain": [
       "           lambda (nm)    lambda (m)  frequencia (Hz)  Vlimiar    Vext\n",
       "LED                                                                   \n",
       "vermelho           645  6.450000e-07  464794508527132    1.360  1.6610\n",
       "laranja            601  6.010000e-07  498822725457571    1.469  1.9246\n",
       "amarelo            583  5.830000e-07  514223770154374    1.565  1.8297\n",
       "verde              568  5.680000e-07  527803623239437    1.603  1.8880\n",
       "azul               470  4.700000e-07  637856293617021    2.142  2.6760"
      ]
     },
     "execution_count": 16,
     "metadata": {},
     "output_type": "execute_result"
    }
   ],
   "source": [
    "const.head()"
   ]
  },
  {
   "cell_type": "markdown",
   "id": "2e27b6a8",
   "metadata": {},
   "source": [
    "# Ajuste linear de Vlimiar vs Frequência"
   ]
  },
  {
   "cell_type": "markdown",
   "id": "23283055",
   "metadata": {},
   "source": [
    "# Definindo as variáveis"
   ]
  },
  {
   "cell_type": "code",
   "execution_count": 17,
   "id": "b3aa42b0",
   "metadata": {},
   "outputs": [],
   "source": [
    "x = const['frequencia (Hz)'].to_numpy().reshape(-1, 1)\n",
    "y = const['Vlimiar'].to_numpy().reshape(-1, 1)"
   ]
  },
  {
   "cell_type": "markdown",
   "id": "87b94160",
   "metadata": {},
   "source": [
    "# Fazendo a regressão linear"
   ]
  },
  {
   "cell_type": "code",
   "execution_count": 18,
   "id": "c76e76f5",
   "metadata": {},
   "outputs": [
    {
     "name": "stdout",
     "output_type": "stream",
     "text": [
      "Vlimiar\n",
      "a=[-0.81190596]\n",
      "b=[[4.61453585e-15]]\n"
     ]
    }
   ],
   "source": [
    "lm = LinearRegression()\n",
    "lm.fit(x, y)\n",
    "a = lm.intercept_\n",
    "b = lm.coef_\n",
    "print('Vlimiar')\n",
    "print('a=' + str(a))\n",
    "print('b=' + str(b))"
   ]
  },
  {
   "cell_type": "markdown",
   "id": "a2e048ba",
   "metadata": {},
   "source": [
    "# Definindo a função"
   ]
  },
  {
   "cell_type": "code",
   "execution_count": 19,
   "id": "62da7243",
   "metadata": {},
   "outputs": [],
   "source": [
    "def f(x):\n",
    "    return b*x + a"
   ]
  },
  {
   "cell_type": "markdown",
   "id": "2e0b916a",
   "metadata": {},
   "source": [
    "# \"Fitando\" a reta: Vlimiar vs Frequência"
   ]
  },
  {
   "cell_type": "code",
   "execution_count": 20,
   "id": "95405b1c",
   "metadata": {},
   "outputs": [
    {
     "data": {
      "text/plain": [
       "[<matplotlib.lines.Line2D at 0x134a378e0>]"
      ]
     },
     "execution_count": 20,
     "metadata": {},
     "output_type": "execute_result"
    },
    {
     "data": {
      "image/png": "[encoded data removed]",
      "text/plain": [
       "<Figure size 432x288 with 1 Axes>"
      ]
     },
     "metadata": {},
     "output_type": "display_data"
    }
   ],
   "source": [
    "plt.style.use('seaborn-whitegrid')\n",
    "plt.scatter(x, y, color='green')\n",
    "plt.xlabel('frequência')\n",
    "plt.ylabel('Vlimiar')\n",
    "plt.plot(x, f(x), color='black')"
   ]
  },
  {
   "cell_type": "markdown",
   "id": "d8704f1e",
   "metadata": {},
   "source": [
    "# Gráfico ampliado"
   ]
  },
  {
   "cell_type": "code",
   "execution_count": 21,
   "id": "261ba5b5",
   "metadata": {},
   "outputs": [
    {
     "data": {
      "image/png": "[encoded data removed]",
      "text/plain": [
       "<Figure size 360x360 with 1 Axes>"
      ]
     },
     "metadata": {},
     "output_type": "display_data"
    }
   ],
   "source": [
    "sns.set_style('whitegrid')\n",
    "g = sns.lmplot(x='frequencia (Hz)', y='Vlimiar',data=const, ci=None, line_kws={\"color\": \"black\", 'lw': 0.5}, scatter_kws={\"color\": \"green\"})"
   ]
  },
  {
   "cell_type": "markdown",
   "id": "717743d9",
   "metadata": {},
   "source": [
    "# Ajuste linear de Vext vs Frequência"
   ]
  },
  {
   "cell_type": "markdown",
   "id": "1124a439",
   "metadata": {},
   "source": [
    "# Definindo as variáveis"
   ]
  },
  {
   "cell_type": "code",
   "execution_count": 22,
   "id": "a80bf536",
   "metadata": {},
   "outputs": [],
   "source": [
    "x = const['frequencia (Hz)'].to_numpy().reshape(-1, 1)\n",
    "y = const['Vext'].to_numpy().reshape(-1, 1)"
   ]
  },
  {
   "cell_type": "markdown",
   "id": "62e466cf",
   "metadata": {},
   "source": [
    "# Fazendo a regressão linear"
   ]
  },
  {
   "cell_type": "code",
   "execution_count": 23,
   "id": "cea94053",
   "metadata": {},
   "outputs": [
    {
     "name": "stdout",
     "output_type": "stream",
     "text": [
      "Vext\n",
      "a=[-1.10399861]\n",
      "b=[[5.86316914e-15]]\n"
     ]
    }
   ],
   "source": [
    "lm = LinearRegression()\n",
    "lm.fit(x, y)\n",
    "a = lm.intercept_\n",
    "b = lm.coef_\n",
    "print('Vext')\n",
    "print('a=' + str(a))\n",
    "print('b=' + str(b))"
   ]
  },
  {
   "cell_type": "markdown",
   "id": "163b6677",
   "metadata": {},
   "source": [
    "# Definindo a função"
   ]
  },
  {
   "cell_type": "code",
   "execution_count": 24,
   "id": "54266c29",
   "metadata": {},
   "outputs": [],
   "source": [
    "def f(x):\n",
    "    return b*x + a"
   ]
  },
  {
   "cell_type": "markdown",
   "id": "2365bc17",
   "metadata": {},
   "source": [
    "# \"Fitando\" a reta: Vext vs Frequência"
   ]
  },
  {
   "cell_type": "code",
   "execution_count": 25,
   "id": "33b1eaad",
   "metadata": {},
   "outputs": [
    {
     "data": {
      "text/plain": [
       "[<matplotlib.lines.Line2D at 0x134b0fb50>]"
      ]
     },
     "execution_count": 25,
     "metadata": {},
     "output_type": "execute_result"
    },
    {
     "data": {
      "image/png": "[encoded data removed]",
      "text/plain": [
       "<Figure size 432x288 with 1 Axes>"
      ]
     },
     "metadata": {},
     "output_type": "display_data"
    }
   ],
   "source": [
    "plt.style.use('seaborn-whitegrid')\n",
    "plt.scatter(x, y, color='green')\n",
    "plt.xlabel('frequência')\n",
    "plt.ylabel('Vext')\n",
    "plt.plot(x, f(x), color='black')"
   ]
  },
  {
   "cell_type": "markdown",
   "id": "e3854632",
   "metadata": {},
   "source": [
    "# Gráfico ampliado"
   ]
  },
  {
   "cell_type": "code",
   "execution_count": 26,
   "id": "f1a65c4c",
   "metadata": {},
   "outputs": [
    {
     "data": {
      "image/png": "[encoded data removed]",
      "text/plain": [
       "<Figure size 360x360 with 1 Axes>"
      ]
     },
     "metadata": {},
     "output_type": "display_data"
    }
   ],
   "source": [
    "sns.set_style('whitegrid')\n",
    "g = sns.lmplot(x='frequencia (Hz)', y='Vext',data=const, ci=None, line_kws={\"color\": \"black\", 'lw': 0.5}, scatter_kws={\"color\": \"green\"})"
   ]
  },
  {
   "cell_type": "code",
   "execution_count": null,
   "id": "3163ce29",
   "metadata": {},
   "outputs": [],
   "source": []
  },
  {
   "cell_type": "code",
   "execution_count": null,
   "id": "b51fbb33",
   "metadata": {},
   "outputs": [],
   "source": []
  }
 ],
 "metadata": {
  "kernelspec": {
   "display_name": "Python 3 (ipykernel)",
   "language": "python",
   "name": "python3"
  },
  "language_info": {
   "codemirror_mode": {
    "name": "ipython",
    "version": 3
   },
   "file_extension": ".py",
   "mimetype": "text/x-python",
   "name": "python",
   "nbconvert_exporter": "python",
   "pygments_lexer": "ipython3",
   "version": "3.9.12"
  }
 },
 "nbformat": 4,
 "nbformat_minor": 5
}
