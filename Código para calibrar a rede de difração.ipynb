{
 "cells": [
  {
   "cell_type": "markdown",
   "id": "97b33b10",
   "metadata": {},
   "source": [
    "# Inicializando as bibliotecas necessárias"
   ]
  },
  {
   "cell_type": "code",
   "execution_count": 110,
   "id": "2504edd0",
   "metadata": {},
   "outputs": [],
   "source": [
    "#bibliotecas\n",
    "import pandas as pd\n",
    "import numpy as np\n",
    "import seaborn as sns\n",
    "import matplotlib.pyplot as plt\n",
    "from sklearn.model_selection import train_test_split\n",
    "from sklearn.linear_model import LinearRegression\n",
    "%matplotlib inline"
   ]
  },
  {
   "cell_type": "markdown",
   "id": "e06ff3d7",
   "metadata": {},
   "source": [
    "# \"Chamando\" a planilha de dados"
   ]
  },
  {
   "cell_type": "code",
   "execution_count": 111,
   "id": "ace32992",
   "metadata": {},
   "outputs": [],
   "source": [
    "rede = pd.read_csv('mercurio_dados.csv',index_col=0, decimal=',')"
   ]
  },
  {
   "cell_type": "markdown",
   "id": "f463df9a",
   "metadata": {},
   "source": [
    "# Mostrando a planilha de dados em uma tabela"
   ]
  },
  {
   "cell_type": "code",
   "execution_count": 112,
   "id": "220cd273",
   "metadata": {
    "scrolled": true
   },
   "outputs": [
    {
     "data": {
      "text/html": [
       "<div>\n",
       "<style scoped>\n",
       "    .dataframe tbody tr th:only-of-type {\n",
       "        vertical-align: middle;\n",
       "    }\n",
       "\n",
       "    .dataframe tbody tr th {\n",
       "        vertical-align: top;\n",
       "    }\n",
       "\n",
       "    .dataframe thead th {\n",
       "        text-align: right;\n",
       "    }\n",
       "</style>\n",
       "<table border=\"1\" class=\"dataframe\">\n",
       "  <thead>\n",
       "    <tr style=\"text-align: right;\">\n",
       "      <th></th>\n",
       "      <th>direita</th>\n",
       "      <th>esquerda</th>\n",
       "      <th>Angulo Médio</th>\n",
       "      <th>Seno do Angulo</th>\n",
       "      <th>Lambda</th>\n",
       "    </tr>\n",
       "    <tr>\n",
       "      <th>raia</th>\n",
       "      <th></th>\n",
       "      <th></th>\n",
       "      <th></th>\n",
       "      <th></th>\n",
       "      <th></th>\n",
       "    </tr>\n",
       "  </thead>\n",
       "  <tbody>\n",
       "    <tr>\n",
       "      <th>violeta</th>\n",
       "      <td>14.53</td>\n",
       "      <td>14.58</td>\n",
       "      <td>14.555</td>\n",
       "      <td>0.2512</td>\n",
       "      <td>404.66</td>\n",
       "    </tr>\n",
       "    <tr>\n",
       "      <th>verde</th>\n",
       "      <td>18.28</td>\n",
       "      <td>18.38</td>\n",
       "      <td>18.330</td>\n",
       "      <td>0.3145</td>\n",
       "      <td>546.07</td>\n",
       "    </tr>\n",
       "    <tr>\n",
       "      <th>amarelo 1</th>\n",
       "      <td>19.38</td>\n",
       "      <td>19.47</td>\n",
       "      <td>19.425</td>\n",
       "      <td>0.3324</td>\n",
       "      <td>576.96</td>\n",
       "    </tr>\n",
       "    <tr>\n",
       "      <th>amarelo 2</th>\n",
       "      <td>19.45</td>\n",
       "      <td>19.55</td>\n",
       "      <td>19.500</td>\n",
       "      <td>0.3338</td>\n",
       "      <td>578.97</td>\n",
       "    </tr>\n",
       "  </tbody>\n",
       "</table>\n",
       "</div>"
      ],
      "text/plain": [
       "           direita  esquerda   Angulo Médio  Seno do Angulo  Lambda\n",
       "raia                                                               \n",
       "violeta      14.53      14.58        14.555          0.2512  404.66\n",
       "verde        18.28      18.38        18.330          0.3145  546.07\n",
       "amarelo 1    19.38      19.47        19.425          0.3324  576.96\n",
       "amarelo 2    19.45      19.55        19.500          0.3338  578.97"
      ]
     },
     "execution_count": 112,
     "metadata": {},
     "output_type": "execute_result"
    }
   ],
   "source": [
    "rede.head()"
   ]
  },
  {
   "cell_type": "markdown",
   "id": "dd340440",
   "metadata": {},
   "source": [
    "# Definindo as variáveis"
   ]
  },
  {
   "cell_type": "code",
   "execution_count": 113,
   "id": "db9fbd46",
   "metadata": {},
   "outputs": [],
   "source": [
    "x = rede[['Seno do Angulo']]\n",
    "y = rede['Lambda']"
   ]
  },
  {
   "cell_type": "markdown",
   "id": "f58bb719",
   "metadata": {},
   "source": [
    "# Definindo a função"
   ]
  },
  {
   "cell_type": "code",
   "execution_count": 114,
   "id": "ce7a6f33",
   "metadata": {},
   "outputs": [],
   "source": [
    "def f(x):\n",
    "    return b*x + a"
   ]
  },
  {
   "cell_type": "markdown",
   "id": "0fb3b6dc",
   "metadata": {},
   "source": [
    "# Separando em dados de treino e dados de teste"
   ]
  },
  {
   "cell_type": "code",
   "execution_count": 115,
   "id": "26073c14",
   "metadata": {},
   "outputs": [],
   "source": [
    "x_train, x_test, y_train, y_test = train_test_split(x, y, test_size=0.33, random_state=42)"
   ]
  },
  {
   "cell_type": "markdown",
   "id": "2e7bccb5",
   "metadata": {},
   "source": [
    "# Fazendo a regressão linear"
   ]
  },
  {
   "cell_type": "code",
   "execution_count": 116,
   "id": "74a15651",
   "metadata": {},
   "outputs": [],
   "source": [
    "lm = LinearRegression()"
   ]
  },
  {
   "cell_type": "code",
   "execution_count": 117,
   "id": "e3ac4684",
   "metadata": {
    "scrolled": true
   },
   "outputs": [
    {
     "data": {
      "text/plain": [
       "LinearRegression()"
      ]
     },
     "execution_count": 117,
     "metadata": {},
     "output_type": "execute_result"
    }
   ],
   "source": [
    "lm.fit(x_train, y_train)"
   ]
  },
  {
   "cell_type": "markdown",
   "id": "5078f198",
   "metadata": {},
   "source": [
    "# \"Fitando\" a reta"
   ]
  },
  {
   "cell_type": "code",
   "execution_count": 118,
   "id": "b64515e8",
   "metadata": {
    "scrolled": true
   },
   "outputs": [
    {
     "data": {
      "text/plain": [
       "[<matplotlib.lines.Line2D at 0x1578ec850>]"
      ]
     },
     "execution_count": 118,
     "metadata": {},
     "output_type": "execute_result"
    },
    {
     "data": {
      "image/png": "[encoded data removed]",
      "text/plain": [
       "<Figure size 432x288 with 1 Axes>"
      ]
     },
     "metadata": {
      "needs_background": "light"
     },
     "output_type": "display_data"
    }
   ],
   "source": [
    "plt.scatter(y,x)\n",
    "plt.xlabel('Lambda')\n",
    "plt.ylabel('Seno do Angulo')\n",
    "plt.plot(f(x[\"Seno do Angulo\"].to_numpy()), x[\"Seno do Angulo\"].to_numpy())"
   ]
  },
  {
   "cell_type": "markdown",
   "id": "15b91435",
   "metadata": {},
   "source": [
    "# Imprimindo o coeficiente angular"
   ]
  },
  {
   "cell_type": "code",
   "execution_count": 119,
   "id": "2ae12d48",
   "metadata": {},
   "outputs": [
    {
     "name": "stdout",
     "output_type": "stream",
     "text": [
      "[2121.92118227]\n"
     ]
    }
   ],
   "source": [
    "#Coeficiente angular\n",
    "b = lm.coef_\n",
    "print(b)"
   ]
  },
  {
   "cell_type": "markdown",
   "id": "019d6f11",
   "metadata": {},
   "source": [
    "# Imprimindo o coeficiente linear"
   ]
  },
  {
   "cell_type": "code",
   "execution_count": 120,
   "id": "68909a2e",
   "metadata": {},
   "outputs": [
    {
     "name": "stdout",
     "output_type": "stream",
     "text": [
      "-128.36660098522157\n"
     ]
    }
   ],
   "source": [
    "#Coeficiente Linear\n",
    "a = lm.intercept_\n",
    "print(a)"
   ]
  },
  {
   "cell_type": "code",
   "execution_count": null,
   "id": "eac29064",
   "metadata": {},
   "outputs": [],
   "source": []
  }
 ],
 "metadata": {
  "kernelspec": {
   "display_name": "Python 3 (ipykernel)",
   "language": "python",
   "name": "python3"
  },
  "language_info": {
   "codemirror_mode": {
    "name": "ipython",
    "version": 3
   },
   "file_extension": ".py",
   "mimetype": "text/x-python",
   "name": "python",
   "nbconvert_exporter": "python",
   "pygments_lexer": "ipython3",
   "version": "3.9.12"
  }
 },
 "nbformat": 4,
 "nbformat_minor": 5
}
