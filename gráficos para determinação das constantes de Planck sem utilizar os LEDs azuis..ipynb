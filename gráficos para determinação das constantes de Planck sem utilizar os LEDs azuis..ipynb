{
 "cells": [
  {
   "cell_type": "markdown",
   "id": "be4172d4",
   "metadata": {},
   "source": [
    "# Inicializando as bibliotecas necessárias"
   ]
  },
  {
   "cell_type": "code",
   "execution_count": 14,
   "id": "dc9b76c7",
   "metadata": {},
   "outputs": [],
   "source": [
    "#bibliotecas\n",
    "import pandas as pd\n",
    "import numpy as np\n",
    "import seaborn as sns\n",
    "import matplotlib.pyplot as plt\n",
    "from sklearn.model_selection import train_test_split\n",
    "from sklearn.linear_model import LinearRegression\n",
    "import scipy as sp\n",
    "\n",
    "%matplotlib inline"
   ]
  },
  {
   "cell_type": "markdown",
   "id": "7901408f",
   "metadata": {},
   "source": [
    "# \"Chamando\" a planilha de dados"
   ]
  },
  {
   "cell_type": "code",
   "execution_count": 15,
   "id": "12530e15",
   "metadata": {},
   "outputs": [],
   "source": [
    "const = pd.read_csv('sem_azul.csv',index_col=0, decimal=',')"
   ]
  },
  {
   "cell_type": "markdown",
   "id": "35124364",
   "metadata": {},
   "source": [
    "# Mostrando a planilha de dados em uma tabela"
   ]
  },
  {
   "cell_type": "code",
   "execution_count": 16,
   "id": "9a935b12",
   "metadata": {
    "scrolled": false
   },
   "outputs": [
    {
     "data": {
      "text/html": [
       "<div>\n",
       "<style scoped>\n",
       "    .dataframe tbody tr th:only-of-type {\n",
       "        vertical-align: middle;\n",
       "    }\n",
       "\n",
       "    .dataframe tbody tr th {\n",
       "        vertical-align: top;\n",
       "    }\n",
       "\n",
       "    .dataframe thead th {\n",
       "        text-align: right;\n",
       "    }\n",
       "</style>\n",
       "<table border=\"1\" class=\"dataframe\">\n",
       "  <thead>\n",
       "    <tr style=\"text-align: right;\">\n",
       "      <th></th>\n",
       "      <th>lambda  (nm)</th>\n",
       "      <th>lambda (m)</th>\n",
       "      <th>frequencia (Hz)</th>\n",
       "      <th>Vlimiar</th>\n",
       "      <th>Vext</th>\n",
       "    </tr>\n",
       "    <tr>\n",
       "      <th>LED</th>\n",
       "      <th></th>\n",
       "      <th></th>\n",
       "      <th></th>\n",
       "      <th></th>\n",
       "      <th></th>\n",
       "    </tr>\n",
       "  </thead>\n",
       "  <tbody>\n",
       "    <tr>\n",
       "      <th>vermelho</th>\n",
       "      <td>637.579</td>\n",
       "      <td>6.375790e-07</td>\n",
       "      <td>470204410747531</td>\n",
       "      <td>1.360</td>\n",
       "      <td>1.6610</td>\n",
       "    </tr>\n",
       "    <tr>\n",
       "      <th>laranja</th>\n",
       "      <td>600.745</td>\n",
       "      <td>6.007450e-07</td>\n",
       "      <td>499034462209423</td>\n",
       "      <td>1.469</td>\n",
       "      <td>1.9246</td>\n",
       "    </tr>\n",
       "    <tr>\n",
       "      <th>amarelo</th>\n",
       "      <td>599.868</td>\n",
       "      <td>5.998680e-07</td>\n",
       "      <td>499764044756513</td>\n",
       "      <td>1.565</td>\n",
       "      <td>1.8297</td>\n",
       "    </tr>\n",
       "    <tr>\n",
       "      <th>verde</th>\n",
       "      <td>577.066</td>\n",
       "      <td>5.770660e-07</td>\n",
       "      <td>519511560202819</td>\n",
       "      <td>1.603</td>\n",
       "      <td>1.8880</td>\n",
       "    </tr>\n",
       "  </tbody>\n",
       "</table>\n",
       "</div>"
      ],
      "text/plain": [
       "           lambda  (nm)    lambda (m)  frequencia (Hz)  Vlimiar    Vext\n",
       "LED                                                                    \n",
       "vermelho        637.579  6.375790e-07  470204410747531    1.360  1.6610\n",
       "laranja         600.745  6.007450e-07  499034462209423    1.469  1.9246\n",
       "amarelo         599.868  5.998680e-07  499764044756513    1.565  1.8297\n",
       "verde           577.066  5.770660e-07  519511560202819    1.603  1.8880"
      ]
     },
     "execution_count": 16,
     "metadata": {},
     "output_type": "execute_result"
    }
   ],
   "source": [
    "const.head()"
   ]
  },
  {
   "cell_type": "markdown",
   "id": "edca7a0d",
   "metadata": {},
   "source": [
    "# Ajuste linear de Vlimiar vs Frequência"
   ]
  },
  {
   "cell_type": "markdown",
   "id": "1503f09c",
   "metadata": {},
   "source": [
    "# Definindo as variáveis"
   ]
  },
  {
   "cell_type": "code",
   "execution_count": 17,
   "id": "d2fd4f7c",
   "metadata": {},
   "outputs": [],
   "source": [
    "x = const['frequencia (Hz)'].to_numpy().reshape(-1, 1)\n",
    "y = const['Vlimiar'].to_numpy().reshape(-1, 1)"
   ]
  },
  {
   "cell_type": "markdown",
   "id": "4b4594ee",
   "metadata": {},
   "source": [
    "# Fazendo a regressão linear"
   ]
  },
  {
   "cell_type": "code",
   "execution_count": 18,
   "id": "9e187988",
   "metadata": {},
   "outputs": [
    {
     "name": "stdout",
     "output_type": "stream",
     "text": [
      "Vlimiar\n",
      "a=[-0.98825051]\n",
      "b=[[5.00373628e-15]]\n"
     ]
    }
   ],
   "source": [
    "lm = LinearRegression()\n",
    "lm.fit(x, y)\n",
    "a = lm.intercept_\n",
    "b = lm.coef_\n",
    "print('Vlimiar')\n",
    "print('a=' + str(a))\n",
    "print('b=' + str(b))"
   ]
  },
  {
   "cell_type": "markdown",
   "id": "b1d75701",
   "metadata": {},
   "source": [
    "# Definindo a função"
   ]
  },
  {
   "cell_type": "code",
   "execution_count": 19,
   "id": "c29379e5",
   "metadata": {},
   "outputs": [],
   "source": [
    "def f(x):\n",
    "    return b*x + a"
   ]
  },
  {
   "cell_type": "markdown",
   "id": "f0c6783e",
   "metadata": {},
   "source": [
    "# \"Fitando\" a reta: Vlimiar vs Frequência"
   ]
  },
  {
   "cell_type": "code",
   "execution_count": 20,
   "id": "c808ddaa",
   "metadata": {},
   "outputs": [
    {
     "data": {
      "text/plain": [
       "[<matplotlib.lines.Line2D at 0x14dd3fa00>]"
      ]
     },
     "execution_count": 20,
     "metadata": {},
     "output_type": "execute_result"
    },
    {
     "data": {
      "image/png": "[encoded data removed]",
      "text/plain": [
       "<Figure size 432x288 with 1 Axes>"
      ]
     },
     "metadata": {},
     "output_type": "display_data"
    }
   ],
   "source": [
    "plt.style.use('seaborn-whitegrid')\n",
    "plt.scatter(x, y, color='blue')\n",
    "plt.xlabel('frequência')\n",
    "plt.ylabel('Vlimiar')\n",
    "plt.plot(x, f(x), color='black')"
   ]
  },
  {
   "cell_type": "markdown",
   "id": "b466211c",
   "metadata": {},
   "source": [
    "# Gráfico ampliado"
   ]
  },
  {
   "cell_type": "code",
   "execution_count": 21,
   "id": "21dfa2a3",
   "metadata": {},
   "outputs": [
    {
     "data": {
      "image/png": "[encoded data removed]",
      "text/plain": [
       "<Figure size 360x360 with 1 Axes>"
      ]
     },
     "metadata": {},
     "output_type": "display_data"
    }
   ],
   "source": [
    "sns.set_style('whitegrid')\n",
    "g = sns.lmplot(x='frequencia (Hz)', y='Vlimiar',data=const, ci=None, line_kws={\"color\": \"black\", 'lw': 0.5}, scatter_kws={\"color\": \"blue\"})"
   ]
  },
  {
   "cell_type": "markdown",
   "id": "27a07a95",
   "metadata": {},
   "source": [
    "# Ajuste linear de Vextrapolado vs Frequência"
   ]
  },
  {
   "cell_type": "markdown",
   "id": "ed0d0fcd",
   "metadata": {},
   "source": [
    "# Definindo as variáveis"
   ]
  },
  {
   "cell_type": "code",
   "execution_count": 22,
   "id": "cb7851ec",
   "metadata": {},
   "outputs": [],
   "source": [
    "x = const['frequencia (Hz)'].to_numpy().reshape(-1, 1)\n",
    "y = const['Vext'].to_numpy().reshape(-1, 1)"
   ]
  },
  {
   "cell_type": "markdown",
   "id": "dd7f3bf6",
   "metadata": {},
   "source": [
    "# Fazendo a regressão linear"
   ]
  },
  {
   "cell_type": "code",
   "execution_count": 23,
   "id": "d00f9723",
   "metadata": {},
   "outputs": [
    {
     "name": "stdout",
     "output_type": "stream",
     "text": [
      "Vext\n",
      "a=[-0.59768949]\n",
      "b=[[4.87502508e-15]]\n"
     ]
    }
   ],
   "source": [
    "lm = LinearRegression()\n",
    "lm.fit(x, y)\n",
    "a = lm.intercept_\n",
    "b = lm.coef_\n",
    "print('Vext')\n",
    "print('a=' + str(a))\n",
    "print('b=' + str(b))"
   ]
  },
  {
   "cell_type": "markdown",
   "id": "3d33b5b5",
   "metadata": {},
   "source": [
    "# Definindo a função"
   ]
  },
  {
   "cell_type": "code",
   "execution_count": 24,
   "id": "55d0d3b2",
   "metadata": {},
   "outputs": [],
   "source": [
    "def f(x):\n",
    "    return b*x + a"
   ]
  },
  {
   "cell_type": "markdown",
   "id": "6d957b96",
   "metadata": {},
   "source": [
    "# \"Fitando\" a reta: Vext vs Frequência"
   ]
  },
  {
   "cell_type": "code",
   "execution_count": 25,
   "id": "55c967b2",
   "metadata": {},
   "outputs": [
    {
     "data": {
      "text/plain": [
       "[<matplotlib.lines.Line2D at 0x14de155e0>]"
      ]
     },
     "execution_count": 25,
     "metadata": {},
     "output_type": "execute_result"
    },
    {
     "data": {
      "image/png": "[encoded data removed]",
      "text/plain": [
       "<Figure size 432x288 with 1 Axes>"
      ]
     },
     "metadata": {},
     "output_type": "display_data"
    }
   ],
   "source": [
    "plt.style.use('seaborn-whitegrid')\n",
    "plt.scatter(x, y, color='blue')\n",
    "plt.xlabel('frequência')\n",
    "plt.ylabel('Vext')\n",
    "plt.plot(x, f(x), color='black')"
   ]
  },
  {
   "cell_type": "markdown",
   "id": "ca942e45",
   "metadata": {},
   "source": [
    "# Gráfico ampliado"
   ]
  },
  {
   "cell_type": "code",
   "execution_count": 26,
   "id": "a1c0ea67",
   "metadata": {},
   "outputs": [
    {
     "data": {
      "image/png": "[encoded data removed]",
      "text/plain": [
       "<Figure size 360x360 with 1 Axes>"
      ]
     },
     "metadata": {},
     "output_type": "display_data"
    }
   ],
   "source": [
    "sns.set_style('whitegrid')\n",
    "g = sns.lmplot(x='frequencia (Hz)', y='Vext',data=const, ci=None, line_kws={\"color\": \"black\", 'lw': 0.5}, scatter_kws={\"color\": \"blue\"})"
   ]
  },
  {
   "cell_type": "code",
   "execution_count": null,
   "id": "988f50ef",
   "metadata": {},
   "outputs": [],
   "source": []
  },
  {
   "cell_type": "code",
   "execution_count": null,
   "id": "71c17457",
   "metadata": {},
   "outputs": [],
   "source": []
  }
 ],
 "metadata": {
  "kernelspec": {
   "display_name": "Python 3 (ipykernel)",
   "language": "python",
   "name": "python3"
  },
  "language_info": {
   "codemirror_mode": {
    "name": "ipython",
    "version": 3
   },
   "file_extension": ".py",
   "mimetype": "text/x-python",
   "name": "python",
   "nbconvert_exporter": "python",
   "pygments_lexer": "ipython3",
   "version": "3.9.12"
  }
 },
 "nbformat": 4,
 "nbformat_minor": 5
}
